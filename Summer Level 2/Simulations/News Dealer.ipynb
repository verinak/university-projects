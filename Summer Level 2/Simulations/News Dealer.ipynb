{
 "cells": [
  {
   "cell_type": "code",
   "execution_count": 1,
   "id": "64e4465e",
   "metadata": {},
   "outputs": [],
   "source": [
    "import pandas as pd\n",
    "import random"
   ]
  },
  {
   "cell_type": "markdown",
   "id": "cdf7127f",
   "metadata": {},
   "source": [
    "# Simulation Project - Newsdealer's Problem"
   ]
  },
  {
   "cell_type": "markdown",
   "id": "d9171fc7",
   "metadata": {},
   "source": [
    "## Define function to run simulation"
   ]
  },
  {
   "cell_type": "code",
   "execution_count": 2,
   "id": "134fc75b",
   "metadata": {},
   "outputs": [],
   "source": [
    "# newsdealer simulation function\n",
    "def simulate_newspaper(cost_price, selling_price, scrap_price, order_quantity, ndays, newstype_dist, demand_dist, random_numbers):\n",
    "        \n",
    "    # initialize empty dataframe\n",
    "    df = pd.DataFrame(columns=['Day','RN Newsday Type','Newsday Type','RN Demand','Demand','Revenue','Lost Profit','Scrap Sale','Daily Profit'])\n",
    "    \n",
    "    # index to interate over random numbers\n",
    "    idx = 0\n",
    "    \n",
    "    # calculate cost of newspapers\n",
    "    cost_of_newspapers = order_quantity * cost_price\n",
    "    \n",
    "    # repeat the following from day 1 to n number of days\n",
    "    for i in range(1,ndays+1):\n",
    "        \n",
    "        # get newstype rn then newstype\n",
    "        rn_newstype = random_numbers[idx]\n",
    "        idx = idx + 1\n",
    "        newstype = newstype_dist[\"newsday type\"][newstype_dist[\"cprob\"] >= rn_newstype].tolist()[0]\n",
    "        \n",
    "        # get demand rn then demand\n",
    "        rn_demand = random_numbers[idx]\n",
    "        idx = idx + 1\n",
    "        demand = demand_dist[\"demand\"][demand_dist[f\"{newstype} cprob\"] >= rn_demand].tolist()[0]\n",
    "        \n",
    "        # calculate revenue, lost profit and scrap\n",
    "        if (demand <= order_quantity):\n",
    "            revenue = selling_price*demand\n",
    "            lost_profit = 0\n",
    "            scrap = (order_quantity - demand) * scrap_price\n",
    "        else:\n",
    "            revenue = selling_price*order_quantity\n",
    "            lost_profit = (demand - order_quantity) * (selling_price - cost_price)\n",
    "            scrap = 0\n",
    "        \n",
    "        # calculate day profit\n",
    "        profit = revenue - cost_of_newspapers - lost_profit + scrap\n",
    "        \n",
    "        # create new row for this day and add it to dataframe\n",
    "        new_row = {\n",
    "            \"Day\": i,\n",
    "            \"RN Newsday Type\": rn_newstype,\n",
    "            \"Newsday Type\": newstype,\n",
    "            \"RN Demand\": rn_demand,\n",
    "            \"Demand\": demand,\n",
    "            \"Revenue\": round(revenue * 0.01, 2),\n",
    "            \"Lost Profit\": round(lost_profit * 0.01, 2),\n",
    "            \"Scrap Sale\": round(scrap * 0.01, 2),\n",
    "            \"Daily Profit\": round(profit * 0.01, 2)\n",
    "        }\n",
    "        df.loc[i] = new_row\n",
    "    \n",
    "    # return the dataframe with all the calculations and the total profit variable\n",
    "    total_profit = sum(df[\"Daily Profit\"])\n",
    "    return df, total_profit"
   ]
  },
  {
   "cell_type": "markdown",
   "id": "44a0c5fb",
   "metadata": {},
   "source": [
    "## Take Parameters as user input"
   ]
  },
  {
   "cell_type": "code",
   "execution_count": 3,
   "id": "45d1ef9c",
   "metadata": {},
   "outputs": [
    {
     "name": "stdout",
     "output_type": "stream",
     "text": [
      "The price at which the dealer buys the newspapers (in cent): 33\n"
     ]
    }
   ],
   "source": [
    "cost_price = int(input('The price at which the dealer buys the newspapers (in cent): '))"
   ]
  },
  {
   "cell_type": "code",
   "execution_count": 4,
   "id": "53b02a62",
   "metadata": {},
   "outputs": [
    {
     "name": "stdout",
     "output_type": "stream",
     "text": [
      "The price at which the dealer sells the newspapers (in cent): 50\n"
     ]
    }
   ],
   "source": [
    "selling_price = int(input('The price at which the dealer sells the newspapers (in cent): '))"
   ]
  },
  {
   "cell_type": "code",
   "execution_count": 5,
   "id": "2118dc72",
   "metadata": {},
   "outputs": [
    {
     "name": "stdout",
     "output_type": "stream",
     "text": [
      "Scrap price (in cent): 5\n"
     ]
    }
   ],
   "source": [
    "scrap_price = int(input('Scrap price (in cent): '))"
   ]
  },
  {
   "cell_type": "code",
   "execution_count": 6,
   "id": "adb92ac4",
   "metadata": {},
   "outputs": [
    {
     "name": "stdout",
     "output_type": "stream",
     "text": [
      "Order quantity (in bundles of 10): 70\n"
     ]
    }
   ],
   "source": [
    "order_quantity = int(input('Order quantity (in bundles of 10): '))"
   ]
  },
  {
   "cell_type": "code",
   "execution_count": 7,
   "id": "863e7d12",
   "metadata": {},
   "outputs": [
    {
     "name": "stdout",
     "output_type": "stream",
     "text": [
      "Number of days to run the simulation: 5\n"
     ]
    }
   ],
   "source": [
    "ndays = int(input('Number of days to run the simulation: '))"
   ]
  },
  {
   "cell_type": "code",
   "execution_count": 8,
   "id": "7f1b792f",
   "metadata": {
    "scrolled": false
   },
   "outputs": [
    {
     "name": "stdout",
     "output_type": "stream",
     "text": [
      "Enter probabilities for Newsday Types good, fair, poor respectively:\n",
      "\n",
      "0.35\n",
      "0.45\n",
      "0.2\n",
      "\n",
      "  newsday type  prob  cprob\n",
      "0         good  0.35   0.35\n",
      "1         fair  0.45   0.80\n",
      "2         poor  0.20   1.00\n"
     ]
    }
   ],
   "source": [
    "newsday_type = ['good','fair','poor']\n",
    "newsday_prob = []\n",
    "\n",
    "print('Enter probabilities for Newsday Types good, fair, poor respectively:')\n",
    "print()\n",
    "for i in range(0, 3):\n",
    "        newsday_prob.append(float(input()))\n",
    "\n",
    "print()\n",
    "\n",
    "# add probabilities to dataframe and create cumulative probability column\n",
    "newstype_dist = pd.DataFrame({\n",
    "    \"newsday type\": newsday_type,\n",
    "    \"prob\": newsday_prob\n",
    "})\n",
    "\n",
    "newstype_dist[\"cprob\"] = newstype_dist[\"prob\"].cumsum()\n",
    "\n",
    "print(newstype_dist)"
   ]
  },
  {
   "cell_type": "code",
   "execution_count": 9,
   "id": "e4faeadf",
   "metadata": {},
   "outputs": [
    {
     "name": "stdout",
     "output_type": "stream",
     "text": [
      "Enter probabilities for demand values from 40 t 100 (7 numbers for each newsday type):\n",
      "\n",
      "Demand probailities for good newsdays:\n",
      "\n",
      "0.03\n",
      "0.05\n",
      "0.15\n",
      "0.20\n",
      "0.35\n",
      "0.15\n",
      "0.07\n",
      "\n",
      "Demand probailities for fair newsdays:\n",
      "\n",
      "0.10\n",
      "0.18\n",
      "0.40\n",
      "0.20\n",
      "0.08\n",
      "0.04\n",
      "0\n",
      "\n",
      "Demand probailities for poor newsdays:\n",
      "\n",
      "0.44\n",
      "0.22\n",
      "0.16\n",
      "0.12\n",
      "0.06\n",
      "0\n",
      "0\n",
      "\n",
      "   demand  good prob  fair prob  poor prob  good cprob  fair cprob  poor cprob\n",
      "0      40       0.03       0.10       0.44        0.03        0.10        0.44\n",
      "1      50       0.05       0.18       0.22        0.08        0.28        0.66\n",
      "2      60       0.15       0.40       0.16        0.23        0.68        0.82\n",
      "3      70       0.20       0.20       0.12        0.43        0.88        0.94\n",
      "4      80       0.35       0.08       0.06        0.78        0.96        1.00\n",
      "5      90       0.15       0.04       0.00        0.93        1.00        1.00\n",
      "6     100       0.07       0.00       0.00        1.00        1.00        1.00\n"
     ]
    }
   ],
   "source": [
    "demand_values = [40, 50, 60, 70, 80, 90, 100]\n",
    "demand_dist = pd.DataFrame({\n",
    "    \"demand\": demand_values\n",
    "})\n",
    "\n",
    "print('Enter probabilities for demand values from 40 t 100 (7 numbers for each newsday type):')\n",
    "print()\n",
    "for type in newsday_type:\n",
    "    demand_prob = []\n",
    "    print(f'Demand probailities for {type} newsdays:')\n",
    "    print()\n",
    "    for i in range(0, 7):\n",
    "        demand_prob.append(float(input()))\n",
    "    print()\n",
    "    demand_dist[f'{type} prob'] = demand_prob\n",
    "\n",
    "# add probabilities to dataframe and create cumulative probability columns\n",
    "demand_dist[\"good cprob\"] = demand_dist[\"good prob\"].cumsum()\n",
    "demand_dist[\"fair cprob\"] = demand_dist[\"fair prob\"].cumsum()\n",
    "demand_dist[\"poor cprob\"] = demand_dist[\"poor prob\"].cumsum()\n",
    "\n",
    "print(demand_dist)"
   ]
  },
  {
   "cell_type": "code",
   "execution_count": 10,
   "id": "fb923935",
   "metadata": {},
   "outputs": [
    {
     "name": "stdout",
     "output_type": "stream",
     "text": [
      "Would you like to enter custom Random Numbers? (T/F) T\n",
      "Enter 10 numbers between 1 and 100:\n",
      "\n",
      "94\n",
      "80\n",
      "77\n",
      "20\n",
      "49\n",
      "15\n",
      "45\n",
      "88\n",
      "43\n",
      "98\n",
      "\n",
      "Scaled numbers: [0.94, 0.8, 0.77, 0.2, 0.49, 0.15, 0.45, 0.88, 0.43, 0.98]\n"
     ]
    }
   ],
   "source": [
    "random_numbers = []\n",
    "if(input('Would you like to enter custom Random Numbers? (T/F) ') == 'T'):\n",
    "    \n",
    "    print(f'Enter {ndays*2} numbers between 1 and 100:\\n')\n",
    "    for i in range(0, ndays*2):\n",
    "        n = input()\n",
    "        random_numbers.append(int(n))\n",
    "else:\n",
    "    random_numbers = random.sample(range(1,100), ndays * 2)\n",
    "    print(f'Generated numbers: {random_numbers}')\n",
    "\n",
    "# scale numbers [1,100] ~ [0,1] to match cprob column\n",
    "random_numbers = [round(n * 0.01, 2) for n in random_numbers]\n",
    "print(f'\\nScaled numbers: {random_numbers}')"
   ]
  },
  {
   "cell_type": "markdown",
   "id": "894be5c1",
   "metadata": {},
   "source": [
    "## Call function to run simulation"
   ]
  },
  {
   "cell_type": "code",
   "execution_count": 11,
   "id": "0d27375b",
   "metadata": {},
   "outputs": [
    {
     "data": {
      "text/html": [
       "<div>\n",
       "<style scoped>\n",
       "    .dataframe tbody tr th:only-of-type {\n",
       "        vertical-align: middle;\n",
       "    }\n",
       "\n",
       "    .dataframe tbody tr th {\n",
       "        vertical-align: top;\n",
       "    }\n",
       "\n",
       "    .dataframe thead th {\n",
       "        text-align: right;\n",
       "    }\n",
       "</style>\n",
       "<table border=\"1\" class=\"dataframe\">\n",
       "  <thead>\n",
       "    <tr style=\"text-align: right;\">\n",
       "      <th></th>\n",
       "      <th>Day</th>\n",
       "      <th>RN Newsday Type</th>\n",
       "      <th>Newsday Type</th>\n",
       "      <th>RN Demand</th>\n",
       "      <th>Demand</th>\n",
       "      <th>Revenue</th>\n",
       "      <th>Lost Profit</th>\n",
       "      <th>Scrap Sale</th>\n",
       "      <th>Daily Profit</th>\n",
       "    </tr>\n",
       "  </thead>\n",
       "  <tbody>\n",
       "    <tr>\n",
       "      <th>1</th>\n",
       "      <td>1</td>\n",
       "      <td>0.94</td>\n",
       "      <td>poor</td>\n",
       "      <td>0.80</td>\n",
       "      <td>60</td>\n",
       "      <td>30.0</td>\n",
       "      <td>0.0</td>\n",
       "      <td>0.5</td>\n",
       "      <td>7.4</td>\n",
       "    </tr>\n",
       "    <tr>\n",
       "      <th>2</th>\n",
       "      <td>2</td>\n",
       "      <td>0.77</td>\n",
       "      <td>fair</td>\n",
       "      <td>0.20</td>\n",
       "      <td>50</td>\n",
       "      <td>25.0</td>\n",
       "      <td>0.0</td>\n",
       "      <td>1.0</td>\n",
       "      <td>2.9</td>\n",
       "    </tr>\n",
       "    <tr>\n",
       "      <th>3</th>\n",
       "      <td>3</td>\n",
       "      <td>0.49</td>\n",
       "      <td>fair</td>\n",
       "      <td>0.15</td>\n",
       "      <td>50</td>\n",
       "      <td>25.0</td>\n",
       "      <td>0.0</td>\n",
       "      <td>1.0</td>\n",
       "      <td>2.9</td>\n",
       "    </tr>\n",
       "    <tr>\n",
       "      <th>4</th>\n",
       "      <td>4</td>\n",
       "      <td>0.45</td>\n",
       "      <td>fair</td>\n",
       "      <td>0.88</td>\n",
       "      <td>70</td>\n",
       "      <td>35.0</td>\n",
       "      <td>0.0</td>\n",
       "      <td>0.0</td>\n",
       "      <td>11.9</td>\n",
       "    </tr>\n",
       "    <tr>\n",
       "      <th>5</th>\n",
       "      <td>5</td>\n",
       "      <td>0.43</td>\n",
       "      <td>fair</td>\n",
       "      <td>0.98</td>\n",
       "      <td>90</td>\n",
       "      <td>35.0</td>\n",
       "      <td>3.4</td>\n",
       "      <td>0.0</td>\n",
       "      <td>8.5</td>\n",
       "    </tr>\n",
       "  </tbody>\n",
       "</table>\n",
       "</div>"
      ],
      "text/plain": [
       "   Day  RN Newsday Type Newsday Type  RN Demand  Demand  Revenue  Lost Profit  \\\n",
       "1    1             0.94         poor       0.80      60     30.0          0.0   \n",
       "2    2             0.77         fair       0.20      50     25.0          0.0   \n",
       "3    3             0.49         fair       0.15      50     25.0          0.0   \n",
       "4    4             0.45         fair       0.88      70     35.0          0.0   \n",
       "5    5             0.43         fair       0.98      90     35.0          3.4   \n",
       "\n",
       "   Scrap Sale  Daily Profit  \n",
       "1         0.5           7.4  \n",
       "2         1.0           2.9  \n",
       "3         1.0           2.9  \n",
       "4         0.0          11.9  \n",
       "5         0.0           8.5  "
      ]
     },
     "metadata": {},
     "output_type": "display_data"
    },
    {
     "name": "stdout",
     "output_type": "stream",
     "text": [
      "\n",
      "Total Profit: 33.6\n"
     ]
    }
   ],
   "source": [
    "simulation, profit = simulate_newspaper(cost_price, selling_price, scrap_price, order_quantity, ndays, newstype_dist, demand_dist, random_numbers)\n",
    "\n",
    "display(simulation)\n",
    "print(f'\\nTotal Profit: {profit}')"
   ]
  }
 ],
 "metadata": {
  "kernelspec": {
   "display_name": "Python 3 (ipykernel)",
   "language": "python",
   "name": "python3"
  },
  "language_info": {
   "codemirror_mode": {
    "name": "ipython",
    "version": 3
   },
   "file_extension": ".py",
   "mimetype": "text/x-python",
   "name": "python",
   "nbconvert_exporter": "python",
   "pygments_lexer": "ipython3",
   "version": "3.9.12"
  }
 },
 "nbformat": 4,
 "nbformat_minor": 5
}
